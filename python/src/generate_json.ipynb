{
 "cells": [
  {
   "cell_type": "markdown",
   "metadata": {},
   "source": [
    "# Establishing database connection, running the main query"
   ]
  },
  {
   "cell_type": "code",
   "execution_count": 1,
   "metadata": {},
   "outputs": [],
   "source": [
    "import sqlite3\n",
    "import pandas as pd\n",
    "\n",
    "conn = sqlite3.connect('../data/FPA_FOD_20170508.sqlite')\n",
    "\n",
    "query_1 = \"\"\"\n",
    "        SELECT\n",
    "            FIRE_CODE, FIRE_NAME, FIRE_YEAR, datetime(DISCOVERY_DATE) AS DISCOVERY_DATE,\n",
    "            DISCOVERY_DOY, DISCOVERY_TIME, STAT_CAUSE_DESCR, datetime(CONT_DATE) AS CONT_DATE,\n",
    "            CONT_DOY, CONT_TIME, FIRE_SIZE, FIRE_SIZE_CLASS, LATITUDE, LONGITUDE, STATE, COUNTY\n",
    "        FROM\n",
    "            Fires\n",
    "        WHERE\n",
    "            COUNTY IS NOT NULL;\n",
    "        \"\"\"\n",
    "\n",
    "df_1 = pd.read_sql_query(query_1, conn)"
   ]
  },
  {
   "cell_type": "markdown",
   "metadata": {},
   "source": [
    "# Generating JSON file from the resulting dataframe"
   ]
  },
  {
   "cell_type": "code",
   "execution_count": 2,
   "metadata": {},
   "outputs": [],
   "source": [
    "df_1.to_json(\"./../data/general_fires_data.json\", orient = \"records\", indent = 4)"
   ]
  },
  {
   "cell_type": "markdown",
   "metadata": {},
   "source": [
    "# Closing the connection to the database"
   ]
  },
  {
   "cell_type": "code",
   "execution_count": 3,
   "metadata": {},
   "outputs": [],
   "source": [
    "conn.close()"
   ]
  }
 ],
 "metadata": {
  "kernelspec": {
   "display_name": "venv",
   "language": "python",
   "name": "python3"
  },
  "language_info": {
   "codemirror_mode": {
    "name": "ipython",
    "version": 3
   },
   "file_extension": ".py",
   "mimetype": "text/x-python",
   "name": "python",
   "nbconvert_exporter": "python",
   "pygments_lexer": "ipython3",
   "version": "3.11.4"
  }
 },
 "nbformat": 4,
 "nbformat_minor": 2
}
